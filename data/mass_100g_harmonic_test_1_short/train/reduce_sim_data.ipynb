{
 "cells": [
  {
   "cell_type": "code",
   "execution_count": 21,
   "id": "f3c4aad0",
   "metadata": {},
   "outputs": [],
   "source": [
    "import pandas as pd\n",
    "\n",
    "df = pd.read_csv(\"mass_100g_harmonic_test_1.csv\")"
   ]
  },
  {
   "cell_type": "code",
   "execution_count": 22,
   "id": "a5685c67",
   "metadata": {},
   "outputs": [],
   "source": [
    "import re\n",
    "\n",
    "filtered_columns = []\n",
    "\n",
    "for col in df.columns:\n",
    "    if col.startswith('u'):\n",
    "        filtered_columns.append(col)\n",
    "        continue\n",
    "\n",
    "    # Extract the first number in the column name, if any\n",
    "    match = re.search(r'\\d+', col)\n",
    "    if match:\n",
    "        num = int(match.group())\n",
    "        if num in {1, 10, 20, 30}:\n",
    "            filtered_columns.append(col)\n",
    "    else:\n",
    "        filtered_columns.append(col)"
   ]
  },
  {
   "cell_type": "code",
   "execution_count": 23,
   "id": "8c1f0492",
   "metadata": {},
   "outputs": [
    {
     "data": {
      "text/plain": [
       "['t',\n",
       " 'x1',\n",
       " 'y1',\n",
       " 'z1',\n",
       " 'vx1',\n",
       " 'vy1',\n",
       " 'vz1',\n",
       " 'x10',\n",
       " 'y10',\n",
       " 'z10',\n",
       " 'vx10',\n",
       " 'vy10',\n",
       " 'vz10',\n",
       " 'x20',\n",
       " 'y20',\n",
       " 'z20',\n",
       " 'vx20',\n",
       " 'vy20',\n",
       " 'vz20',\n",
       " 'x30',\n",
       " 'y30',\n",
       " 'z30',\n",
       " 'vx30',\n",
       " 'vy30',\n",
       " 'vz30',\n",
       " 'ux1',\n",
       " 'uy1',\n",
       " 'ux2',\n",
       " 'uy2',\n",
       " 'ux3',\n",
       " 'uy3',\n",
       " 'x1_new',\n",
       " 'y1_new',\n",
       " 'z1_new',\n",
       " 'vx1_new',\n",
       " 'vy1_new',\n",
       " 'vz1_new',\n",
       " 'x10_new',\n",
       " 'y10_new',\n",
       " 'z10_new',\n",
       " 'vx10_new',\n",
       " 'vy10_new',\n",
       " 'vz10_new',\n",
       " 'x20_new',\n",
       " 'y20_new',\n",
       " 'z20_new',\n",
       " 'vx20_new',\n",
       " 'vy20_new',\n",
       " 'vz20_new',\n",
       " 'x30_new',\n",
       " 'y30_new',\n",
       " 'z30_new',\n",
       " 'vx30_new',\n",
       " 'vy30_new',\n",
       " 'vz30_new']"
      ]
     },
     "execution_count": 23,
     "metadata": {},
     "output_type": "execute_result"
    }
   ],
   "source": [
    "filtered_columns"
   ]
  },
  {
   "cell_type": "code",
   "execution_count": 24,
   "id": "a3f18000",
   "metadata": {},
   "outputs": [],
   "source": [
    "\n",
    "df = df[filtered_columns].copy()\n",
    "\n",
    "def replace_number(match):\n",
    "    num = match.group()\n",
    "    if num == '10':\n",
    "        return '2'\n",
    "    elif num == '20':\n",
    "        return '3'\n",
    "    elif num == '30':\n",
    "        return '4'\n",
    "    elif num == '1':\n",
    "        return '1'\n",
    "    else:\n",
    "        return num\n",
    "\n",
    "df.columns = [re.sub(r'10|20|30|1', replace_number, col) for col in df.columns]"
   ]
  },
  {
   "cell_type": "code",
   "execution_count": 26,
   "id": "824a4f44",
   "metadata": {},
   "outputs": [],
   "source": [
    "df.to_csv(\"raw/data.csv\", index=False)\n",
    "df.to_csv(\"../test/1/raw/data.csv\", index=False)"
   ]
  }
 ],
 "metadata": {
  "kernelspec": {
   "display_name": ".venv",
   "language": "python",
   "name": "python3"
  },
  "language_info": {
   "codemirror_mode": {
    "name": "ipython",
    "version": 3
   },
   "file_extension": ".py",
   "mimetype": "text/x-python",
   "name": "python",
   "nbconvert_exporter": "python",
   "pygments_lexer": "ipython3",
   "version": "3.12.8"
  }
 },
 "nbformat": 4,
 "nbformat_minor": 5
}
