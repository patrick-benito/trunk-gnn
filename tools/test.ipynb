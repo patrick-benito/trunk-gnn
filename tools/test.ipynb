{
 "cells": [
  {
   "cell_type": "code",
   "execution_count": 36,
   "metadata": {},
   "outputs": [],
   "source": [
    "import torch\n",
    "from trunk_gnn.model import TrunkMLP\n",
    "from trunk_gnn.data import TrunkGraphDataset\n",
    "from torch_geometric.loader import DataLoader"
   ]
  },
  {
   "cell_type": "code",
   "execution_count": 37,
   "metadata": {},
   "outputs": [
    {
     "name": "stderr",
     "output_type": "stream",
     "text": [
      "Processing...\n"
     ]
    },
    {
     "name": "stdout",
     "output_type": "stream",
     "text": [
      "Loaded ../data/mass_100g_harmonic/test/2 dataset containing 501 samples.\n"
     ]
    },
    {
     "name": "stderr",
     "output_type": "stream",
     "text": [
      "Done!\n"
     ]
    }
   ],
   "source": [
    "dataset = TrunkGraphDataset(\"../data/mass_100g_harmonic/test/2\")\n",
    "train_data_loader=DataLoader(\n",
    "            dataset, batch_size=9, shuffle=True\n",
    "        )"
   ]
  },
  {
   "cell_type": "code",
   "execution_count": 38,
   "metadata": {},
   "outputs": [
    {
     "name": "stdout",
     "output_type": "stream",
     "text": [
      "Data(x=[30, 6], edge_index=[2, 58], t=[1], u=[1, 6], x_new=[30, 6], ids=[30, 1])\n"
     ]
    }
   ],
   "source": [
    "print(dataset[0])"
   ]
  },
  {
   "cell_type": "code",
   "execution_count": 39,
   "metadata": {},
   "outputs": [
    {
     "name": "stdout",
     "output_type": "stream",
     "text": [
      "torch.Size([30, 6])\n"
     ]
    }
   ],
   "source": [
    "print(dataset[1].x.shape)"
   ]
  },
  {
   "cell_type": "code",
   "execution_count": 40,
   "metadata": {},
   "outputs": [],
   "source": [
    "data = next(iter(train_data_loader))"
   ]
  },
  {
   "cell_type": "code",
   "execution_count": 41,
   "metadata": {},
   "outputs": [],
   "source": [
    "u = data.u\n",
    "x = data.x"
   ]
  },
  {
   "cell_type": "code",
   "execution_count": 42,
   "metadata": {},
   "outputs": [
    {
     "name": "stdout",
     "output_type": "stream",
     "text": [
      "tensor([[ 0.0000e+00,  0.0000e+00, -1.0667e-02,  0.0000e+00,  0.0000e+00,\n",
      "          0.0000e+00],\n",
      "        [ 0.0000e+00,  0.0000e+00, -2.1333e-02,  0.0000e+00,  0.0000e+00,\n",
      "          0.0000e+00],\n",
      "        [ 9.6916e-05, -2.6732e-04, -3.1996e-02, -4.5328e-04,  5.2853e-05,\n",
      "         -5.5427e-06],\n",
      "        ...,\n",
      "        [-9.6732e-02, -3.4656e-02, -2.7342e-01, -2.0658e-01,  4.2362e-01,\n",
      "          1.8855e-02],\n",
      "        [-1.0311e-01, -3.7398e-02, -2.8152e-01, -2.2159e-01,  4.5259e-01,\n",
      "          2.0199e-02],\n",
      "        [-1.0964e-01, -4.0237e-02, -2.8946e-01, -2.3703e-01,  4.8229e-01,\n",
      "          2.1577e-02]]) tensor([[-3.1511,  3.3569,  0.3364,  0.8527, -9.5881, -1.9569],\n",
      "        [-0.2410,  4.5979, -0.7878,  0.4686,  8.0598, -5.5499],\n",
      "        [ 0.3222,  4.5929, -0.8008,  0.4460,  4.0572,  8.9051],\n",
      "        [-1.4477, -4.3707,  0.6451,  0.6512, -8.2893,  5.2009],\n",
      "        [-2.6213, -3.7852,  0.5764, -0.7128, -2.3956,  9.4880],\n",
      "        [-4.5954, -0.2850,  0.7200, -0.5673, -8.7020, -4.4761],\n",
      "        [-4.1241, -2.0471, -0.6919,  0.6012,  8.7184,  4.4441],\n",
      "        [-1.1507, -4.4581,  0.3445,  0.8495, -9.0848,  3.6368],\n",
      "        [ 1.7345, -4.2650,  0.2093, -0.8924, -2.3806, -9.4918]])\n"
     ]
    }
   ],
   "source": [
    "print(x,u)"
   ]
  },
  {
   "cell_type": "code",
   "execution_count": 43,
   "metadata": {},
   "outputs": [],
   "source": [
    "u_repeated = u.repeat_interleave(x.shape[0] // u.shape[0], dim=0)"
   ]
  },
  {
   "cell_type": "code",
   "execution_count": 44,
   "metadata": {},
   "outputs": [
    {
     "data": {
      "text/plain": [
       "torch.Size([270, 6])"
      ]
     },
     "execution_count": 44,
     "metadata": {},
     "output_type": "execute_result"
    }
   ],
   "source": [
    "u_repeated.shape"
   ]
  }
 ],
 "metadata": {
  "kernelspec": {
   "display_name": ".venv",
   "language": "python",
   "name": "python3"
  },
  "language_info": {
   "codemirror_mode": {
    "name": "ipython",
    "version": 3
   },
   "file_extension": ".py",
   "mimetype": "text/x-python",
   "name": "python",
   "nbconvert_exporter": "python",
   "pygments_lexer": "ipython3",
   "version": "3.12.8"
  }
 },
 "nbformat": 4,
 "nbformat_minor": 2
}
